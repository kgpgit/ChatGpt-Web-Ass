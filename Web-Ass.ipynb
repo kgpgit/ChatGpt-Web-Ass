{
  "nbformat": 4,
  "nbformat_minor": 0,
  "metadata": {
    "colab": {
      "provenance": [],
      "authorship_tag": "ABX9TyMf20EKPYy0XrobG6vcz+Nr",
      "include_colab_link": true
    },
    "kernelspec": {
      "name": "python3",
      "display_name": "Python 3"
    },
    "language_info": {
      "name": "python"
    }
  },
  "cells": [
    {
      "cell_type": "markdown",
      "metadata": {
        "id": "view-in-github",
        "colab_type": "text"
      },
      "source": [
        "<a href=\"https://colab.research.google.com/github/ahmednadr/Web-Ass./blob/main/Web-Ass.ipynb\" target=\"_parent\"><img src=\"https://colab.research.google.com/assets/colab-badge.svg\" alt=\"Open In Colab\"/></a>"
      ]
    },
    {
      "cell_type": "code",
      "source": [
        "!pip install chatllama-py\n",
        "!mkdir facebook_llama && cd ./facebook_llama && git clone https://github.com/facebookresearch/llama.git\n",
        "%cd facebook_llama/llama\n",
        "!pip install -r ./requirements.txt\n",
        "!pip install -e .\n"
      ],
      "metadata": {
        "colab": {
          "base_uri": "https://localhost:8080/"
        },
        "id": "AgDPe4_VEXw8",
        "outputId": "e747775d-9ab3-4871-e01f-98d1e979ea4c"
      },
      "execution_count": null,
      "outputs": [
        {
          "output_type": "stream",
          "name": "stdout",
          "text": [
            "Collecting multidict<7.0,>=4.5\n",
            "  Downloading multidict-6.0.4-cp39-cp39-manylinux_2_17_x86_64.manylinux2014_x86_64.whl (114 kB)\n",
            "\u001b[?25l     \u001b[90m━━━━━━━━━━━━━━━━━━━━━━━━━━━━━━━━━━━━━━━━\u001b[0m \u001b[32m0.0/114.2 KB\u001b[0m \u001b[31m?\u001b[0m eta \u001b[36m-:--:--\u001b[0m\r\u001b[2K     \u001b[90m━━━━━━━━━━━━━━━━━━━━━━━━━━━━━━━━━━━━━━\u001b[0m \u001b[32m114.2/114.2 KB\u001b[0m \u001b[31m12.7 MB/s\u001b[0m eta \u001b[36m0:00:00\u001b[0m\n",
            "\u001b[?25hRequirement already satisfied: attrs>=17.3.0 in /usr/local/lib/python3.9/dist-packages (from aiohttp->datasets->chatllama-py) (22.2.0)\n",
            "Collecting aiosignal>=1.1.2\n",
            "  Downloading aiosignal-1.3.1-py3-none-any.whl (7.6 kB)\n",
            "Collecting async-timeout<5.0,>=4.0.0a3\n",
            "  Downloading async_timeout-4.0.2-py3-none-any.whl (5.8 kB)\n",
            "Collecting frozenlist>=1.1.1\n",
            "  Downloading frozenlist-1.3.3-cp39-cp39-manylinux_2_5_x86_64.manylinux1_x86_64.manylinux_2_17_x86_64.manylinux2014_x86_64.whl (158 kB)\n",
            "\u001b[2K     \u001b[90m━━━━━━━━━━━━━━━━━━━━━━━━━━━━━━━━━━━━━━\u001b[0m \u001b[32m158.8/158.8 KB\u001b[0m \u001b[31m18.5 MB/s\u001b[0m eta \u001b[36m0:00:00\u001b[0m\n",
            "\u001b[?25hCollecting yarl<2.0,>=1.0\n",
            "  Downloading yarl-1.8.2-cp39-cp39-manylinux_2_17_x86_64.manylinux2014_x86_64.whl (264 kB)\n",
            "\u001b[2K     \u001b[90m━━━━━━━━━━━━━━━━━━━━━━━━━━━━━━━━━━━━━━\u001b[0m \u001b[32m264.6/264.6 KB\u001b[0m \u001b[31m28.0 MB/s\u001b[0m eta \u001b[36m0:00:00\u001b[0m\n",
            "\u001b[?25hRequirement already satisfied: charset-normalizer<4.0,>=2.0 in /usr/local/lib/python3.9/dist-packages (from aiohttp->datasets->chatllama-py) (2.0.12)\n",
            "Collecting marshmallow<4.0.0,>=3.3.0\n",
            "  Downloading marshmallow-3.19.0-py3-none-any.whl (49 kB)\n",
            "\u001b[2K     \u001b[90m━━━━━━━━━━━━━━━━━━━━━━━━━━━━━━━━━━━━━━━━\u001b[0m \u001b[32m49.1/49.1 KB\u001b[0m \u001b[31m4.9 MB/s\u001b[0m eta \u001b[36m0:00:00\u001b[0m\n",
            "\u001b[?25hCollecting marshmallow-enum<2.0.0,>=1.5.1\n",
            "  Downloading marshmallow_enum-1.5.1-py2.py3-none-any.whl (4.2 kB)\n",
            "Collecting typing-inspect>=0.4.0\n",
            "  Downloading typing_inspect-0.8.0-py3-none-any.whl (8.7 kB)\n",
            "Requirement already satisfied: idna<4,>=2.5 in /usr/local/lib/python3.9/dist-packages (from requests>=2.19.0->datasets->chatllama-py) (3.4)\n",
            "Requirement already satisfied: certifi>=2017.4.17 in /usr/local/lib/python3.9/dist-packages (from requests>=2.19.0->datasets->chatllama-py) (2022.12.7)\n",
            "Requirement already satisfied: urllib3<1.27,>=1.21.1 in /usr/local/lib/python3.9/dist-packages (from requests>=2.19.0->datasets->chatllama-py) (1.26.15)\n",
            "Requirement already satisfied: greenlet!=0.4.17 in /usr/local/lib/python3.9/dist-packages (from SQLAlchemy<2,>=1->langchain->chatllama-py) (2.0.2)\n",
            "Requirement already satisfied: pytz>=2020.1 in /usr/local/lib/python3.9/dist-packages (from pandas->datasets->chatllama-py) (2022.7.1)\n",
            "Requirement already satisfied: python-dateutil>=2.8.1 in /usr/local/lib/python3.9/dist-packages (from pandas->datasets->chatllama-py) (2.8.2)\n",
            "Requirement already satisfied: six>=1.5 in /usr/local/lib/python3.9/dist-packages (from python-dateutil>=2.8.1->pandas->datasets->chatllama-py) (1.15.0)\n",
            "Collecting mypy-extensions>=0.3.0\n",
            "  Downloading mypy_extensions-1.0.0-py3-none-any.whl (4.7 kB)\n",
            "Building wheels for collected packages: deepspeed, fairscale\n",
            "  Building wheel for deepspeed (setup.py) ... \u001b[?25l\u001b[?25hdone\n",
            "  Created wheel for deepspeed: filename=deepspeed-0.8.2-py3-none-any.whl size=775203 sha256=8736723a3fa0d0175e5dfda35534e685f487e1501e6c0c3f8ce4d44db280fd50\n",
            "  Stored in directory: /root/.cache/pip/wheels/c7/f5/b5/aaddb0eadc99ea8e4c841bb7cac6ff5af7bc44cbdbebb042cb\n",
            "  Building wheel for fairscale (pyproject.toml) ... \u001b[?25l\u001b[?25hdone\n",
            "  Created wheel for fairscale: filename=fairscale-0.4.13-py3-none-any.whl size=332130 sha256=81c93f5b26d7580da5e6d697e2eba8ea768fdd9488d74b7a8ed704ed9bf1a072\n",
            "  Stored in directory: /root/.cache/pip/wheels/10/ea/7f/8f35af83599829bb4790bdc16949dd99aeeb62e9a1faf47d47\n",
            "Successfully built deepspeed fairscale\n",
            "Installing collected packages: tokenizers, py-cpuinfo, ninja, hjson, xxhash, mypy-extensions, multidict, marshmallow, frozenlist, einops, dill, beartype, async-timeout, yarl, typing-inspect, responses, multiprocess, marshmallow-enum, huggingface-hub, fairscale, deepspeed, aiosignal, transformers, dataclasses-json, aiohttp, openai, langchain, datasets, chatllama-py\n",
            "Successfully installed aiohttp-3.8.4 aiosignal-1.3.1 async-timeout-4.0.2 beartype-0.12.0 chatllama-py-0.0.2 dataclasses-json-0.5.7 datasets-2.10.1 deepspeed-0.8.2 dill-0.3.6 einops-0.6.0 fairscale-0.4.13 frozenlist-1.3.3 hjson-3.1.0 huggingface-hub-0.13.2 langchain-0.0.115 marshmallow-3.19.0 marshmallow-enum-1.5.1 multidict-6.0.4 multiprocess-0.70.14 mypy-extensions-1.0.0 ninja-1.11.1 openai-0.27.2 py-cpuinfo-9.0.0 responses-0.18.0 tokenizers-0.13.2 transformers-4.27.1 typing-inspect-0.8.0 xxhash-3.2.0 yarl-1.8.2\n",
            "Cloning into 'llama'...\n",
            "remote: Enumerating objects: 45, done.\u001b[K\n",
            "remote: Total 45 (delta 0), reused 0 (delta 0), pack-reused 45\u001b[K\n",
            "Unpacking objects: 100% (45/45), 33.92 KiB | 1.61 MiB/s, done.\n",
            "/content/facebook_llama/llama\n",
            "Looking in indexes: https://pypi.org/simple, https://us-python.pkg.dev/colab-wheels/public/simple/\n",
            "Requirement already satisfied: torch in /usr/local/lib/python3.9/dist-packages (from -r ./requirements.txt (line 1)) (1.13.1+cu116)\n",
            "Requirement already satisfied: fairscale in /usr/local/lib/python3.9/dist-packages (from -r ./requirements.txt (line 2)) (0.4.13)\n",
            "Collecting fire\n",
            "  Downloading fire-0.5.0.tar.gz (88 kB)\n",
            "\u001b[2K     \u001b[90m━━━━━━━━━━━━━━━━━━━━━━━━━━━━━━━━━━━━━━━━\u001b[0m \u001b[32m88.3/88.3 KB\u001b[0m \u001b[31m2.7 MB/s\u001b[0m eta \u001b[36m0:00:00\u001b[0m\n",
            "\u001b[?25h  Preparing metadata (setup.py) ... \u001b[?25l\u001b[?25hdone\n",
            "Collecting sentencepiece\n",
            "  Downloading sentencepiece-0.1.97-cp39-cp39-manylinux_2_17_x86_64.manylinux2014_x86_64.whl (1.3 MB)\n",
            "\u001b[2K     \u001b[90m━━━━━━━━━━━━━━━━━━━━━━━━━━━━━━━━━━━━━━━━\u001b[0m \u001b[32m1.3/1.3 MB\u001b[0m \u001b[31m22.8 MB/s\u001b[0m eta \u001b[36m0:00:00\u001b[0m\n",
            "\u001b[?25hRequirement already satisfied: typing-extensions in /usr/local/lib/python3.9/dist-packages (from torch->-r ./requirements.txt (line 1)) (4.5.0)\n",
            "Requirement already satisfied: numpy>=1.22.0 in /usr/local/lib/python3.9/dist-packages (from fairscale->-r ./requirements.txt (line 2)) (1.22.4)\n",
            "Requirement already satisfied: six in /usr/local/lib/python3.9/dist-packages (from fire->-r ./requirements.txt (line 3)) (1.15.0)\n",
            "Requirement already satisfied: termcolor in /usr/local/lib/python3.9/dist-packages (from fire->-r ./requirements.txt (line 3)) (2.2.0)\n",
            "Building wheels for collected packages: fire\n",
            "  Building wheel for fire (setup.py) ... \u001b[?25l\u001b[?25hdone\n",
            "  Created wheel for fire: filename=fire-0.5.0-py2.py3-none-any.whl size=116952 sha256=7be48afbf739cb63acff60ef1ecdb62ed09f8c6d5f5cfdb7e5554ae320bc9ab7\n",
            "  Stored in directory: /root/.cache/pip/wheels/f7/f1/89/b9ea2bf8f80ec027a88fef1d354b3816b4d3d29530988972f6\n",
            "Successfully built fire\n",
            "Installing collected packages: sentencepiece, fire\n",
            "Successfully installed fire-0.5.0 sentencepiece-0.1.97\n",
            "Looking in indexes: https://pypi.org/simple, https://us-python.pkg.dev/colab-wheels/public/simple/\n",
            "Obtaining file:///content/facebook_llama/llama\n",
            "  Preparing metadata (setup.py) ... \u001b[?25l\u001b[?25hdone\n",
            "Installing collected packages: llama\n",
            "  Running setup.py develop for llama\n",
            "Successfully installed llama-0.0.0\n"
          ]
        }
      ]
    },
    {
      "cell_type": "code",
      "execution_count": null,
      "metadata": {
        "id": "_rjzM2laOHCH",
        "colab": {
          "base_uri": "https://localhost:8080/"
        },
        "outputId": "d8e9b810-6f53-44d0-9de5-a18ff23ffc54"
      },
      "outputs": [
        {
          "output_type": "stream",
          "name": "stdout",
          "text": [
            "  % Total    % Received % Xferd  Average Speed   Time    Time     Time  Current\n",
            "                                 Dload  Upload   Total   Spent    Left  Speed\n",
            "\r  0     0    0     0    0     0      0      0 --:--:-- --:--:-- --:--:--     0\r100  2127  100  2127    0     0  15992      0 --:--:-- --:--:-- --:--:-- 15873\r100  2127  100  2127    0     0  15992      0 --:--:-- --:--:-- --:--:-- 15873\n",
            "Downloading tokenizer\n",
            "--2023-03-17 18:50:20--  https://agi.gpt4.org/llama/LLaMA/tokenizer.model\n",
            "Resolving agi.gpt4.org (agi.gpt4.org)... 172.67.222.91, 104.21.94.104, 2606:4700:3037::6815:5e68, ...\n",
            "Connecting to agi.gpt4.org (agi.gpt4.org)|172.67.222.91|:443... connected.\n",
            "HTTP request sent, awaiting response... 200 OK\n",
            "Length: 499723 (488K) [application/octet-stream]\n",
            "Saving to: ‘.//tokenizer.model’\n",
            "\n",
            ".//tokenizer.model  100%[===================>] 488.01K  --.-KB/s    in 0.04s   \n",
            "\n",
            "2023-03-17 18:50:20 (10.9 MB/s) - ‘.//tokenizer.model’ saved [499723/499723]\n",
            "\n",
            "--2023-03-17 18:50:20--  https://agi.gpt4.org/llama/LLaMA/tokenizer_checklist.chk\n",
            "Resolving agi.gpt4.org (agi.gpt4.org)... 172.67.222.91, 104.21.94.104, 2606:4700:3037::6815:5e68, ...\n",
            "Connecting to agi.gpt4.org (agi.gpt4.org)|172.67.222.91|:443... connected.\n",
            "HTTP request sent, awaiting response... 200 OK\n",
            "Length: 50 [application/octet-stream]\n",
            "Saving to: ‘.//tokenizer_checklist.chk’\n",
            "\n",
            ".//tokenizer_checkl 100%[===================>]      50  --.-KB/s    in 0s      \n",
            "\n",
            "2023-03-17 18:50:21 (9.35 MB/s) - ‘.//tokenizer_checklist.chk’ saved [50/50]\n",
            "\n",
            "tokenizer.model: OK\n",
            "Downloading 7B\n",
            "--2023-03-17 18:50:21--  https://agi.gpt4.org/llama/LLaMA/7B/consolidated.00.pth\n",
            "Resolving agi.gpt4.org (agi.gpt4.org)... 172.67.222.91, 104.21.94.104, 2606:4700:3037::6815:5e68, ...\n",
            "Connecting to agi.gpt4.org (agi.gpt4.org)|172.67.222.91|:443... connected.\n",
            "HTTP request sent, awaiting response... 200 OK\n",
            "Length: 13476939516 (13G) [application/octet-stream]\n",
            "Saving to: ‘.//7B/consolidated.00.pth’\n",
            "\n",
            ".//7B/consolidated. 100%[===================>]  12.55G  49.1MB/s    in 4m 13s  \n",
            "\n",
            "2023-03-17 18:54:34 (50.8 MB/s) - ‘.//7B/consolidated.00.pth’ saved [13476939516/13476939516]\n",
            "\n",
            "--2023-03-17 18:54:35--  https://agi.gpt4.org/llama/LLaMA/7B/params.json\n",
            "Resolving agi.gpt4.org (agi.gpt4.org)... 104.21.94.104, 172.67.222.91, 2606:4700:3030::ac43:de5b, ...\n",
            "Connecting to agi.gpt4.org (agi.gpt4.org)|104.21.94.104|:443... connected.\n",
            "HTTP request sent, awaiting response... 200 OK\n",
            "Length: unspecified [application/json]\n",
            "Saving to: ‘.//7B/params.json’\n",
            "\n",
            ".//7B/params.json       [ <=>                ]     101  --.-KB/s    in 0s      \n",
            "\n",
            "2023-03-17 18:54:35 (8.58 MB/s) - ‘.//7B/params.json’ saved [101]\n",
            "\n",
            "--2023-03-17 18:54:35--  https://agi.gpt4.org/llama/LLaMA/7B/checklist.chk\n",
            "Resolving agi.gpt4.org (agi.gpt4.org)... 104.21.94.104, 172.67.222.91, 2606:4700:3030::ac43:de5b, ...\n",
            "Connecting to agi.gpt4.org (agi.gpt4.org)|104.21.94.104|:443... connected.\n",
            "HTTP request sent, awaiting response... 200 OK\n",
            "Length: 100 [application/octet-stream]\n",
            "Saving to: ‘.//7B/checklist.chk’\n",
            "\n",
            ".//7B/checklist.chk 100%[===================>]     100  --.-KB/s    in 0s      \n",
            "\n",
            "2023-03-17 18:54:35 (2.47 MB/s) - ‘.//7B/checklist.chk’ saved [100/100]\n",
            "\n",
            "Checking checksums\n",
            "consolidated.00.pth: OK\n",
            "params.json: OK\n"
          ]
        }
      ],
      "source": [
        "# TODO: env var model size\n",
        "!curl -o- https://raw.githubusercontent.com/shawwn/llama-dl/56f50b96072f42fb2520b1ad5a1d6ef30351f23c/llama.sh | sed 's/MODEL_SIZE=\"7B,13B,30B,65B\"/MODEL_SIZE=\"7B\"/g' | bash\n"
      ]
    },
    {
      "cell_type": "code",
      "source": [
        "!ls -l /content/facebook_llama/llama/7B\n",
        "!echo \" model params : \"\n",
        "!cat /content/facebook_llama/llama/7B/params.json"
      ],
      "metadata": {
        "id": "BKxtjJjnOJMO",
        "colab": {
          "base_uri": "https://localhost:8080/"
        },
        "outputId": "3459b183-b971-494a-d429-5381b0c8ce30"
      },
      "execution_count": 1,
      "outputs": [
        {
          "output_type": "stream",
          "name": "stdout",
          "text": [
            "ls: cannot access '/content/facebook_llama/llama/7B': No such file or directory\n",
            " model params : \n",
            "cat: /content/facebook_llama/llama/7B/params.json: No such file or directory\n"
          ]
        }
      ]
    },
    {
      "cell_type": "code",
      "source": [
        "from chatllama import llama_model\n",
        "import llama"
      ],
      "metadata": {
        "id": "q-DbmlXvZaoL"
      },
      "execution_count": null,
      "outputs": []
    },
    {
      "cell_type": "code",
      "source": [
        "model , tokenizer = llama_model.load_model_test(\"/content/7B\")\n",
        "# import trafilatura as tf\n",
        "# tf.bare_extraction(down)[\"text\"] "
      ],
      "metadata": {
        "id": "cntnJ8XfER7V"
      },
      "execution_count": null,
      "outputs": []
    },
    {
      "cell_type": "markdown",
      "source": [
        "- stack exchange questions/answer limit 30,000 characters. \n",
        "- Qoura has no answer length limit \n",
        "- 1-2 sentence ~= 30 tokens\n",
        "- 1 paragraph ~= 100 tokens\n",
        "- 1,500 words ~= 2048 tokens"
      ],
      "metadata": {
        "id": "CIso7SL476py"
      }
    }
  ]
}